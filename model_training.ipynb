{
 "cells": [
  {
   "cell_type": "code",
   "execution_count": 1,
   "metadata": {},
   "outputs": [
    {
     "name": "stdout",
     "output_type": "stream",
     "text": [
      "WARNING:tensorflow:From c:\\Users\\pcd\\Documents\\GitHub\\elden-ring-dialogue-generator\\.venv\\lib\\site-packages\\keras\\src\\losses.py:2976: The name tf.losses.sparse_softmax_cross_entropy is deprecated. Please use tf.compat.v1.losses.sparse_softmax_cross_entropy instead.\n",
      "\n"
     ]
    }
   ],
   "source": [
    "import csv\n",
    "import numpy as np\n",
    "import tensorflow as tf\n",
    "from tensorflow.keras.utils import to_categorical\n",
    "from tensorflow.keras.preprocessing.text import Tokenizer\n",
    "from tensorflow.keras.preprocessing.sequence import pad_sequences\n"
   ]
  },
  {
   "cell_type": "code",
   "execution_count": 2,
   "metadata": {},
   "outputs": [
    {
     "name": "stdout",
     "output_type": "stream",
     "text": [
      "There are 8014 lines of dialogue\n",
      "\n",
      "The first 5 lines look like this:\n",
      "\n",
      "text\n",
      "The Tarnished will soon return.\n",
      "Guided by Grace once lost.\n",
      "The Golden Order is broken to its core.\n",
      "They will fight. And they will die. In an unending curse.\n"
     ]
    }
   ],
   "source": [
    "\n",
    "\n",
    "corpus = []\n",
    "with open('ER-Data.csv', 'r') as csvfile:\n",
    "    reader = csv.reader(csvfile)\n",
    "    for row in reader:\n",
    "        corpus.append(row[1])\n",
    "    \n",
    "print(f\"There are {len(corpus)} lines of dialogue\\n\")\n",
    "print(f\"The first 5 lines look like this:\\n\")\n",
    "for i in range(5):\n",
    "  print(corpus[i])    "
   ]
  },
  {
   "cell_type": "code",
   "execution_count": 3,
   "metadata": {},
   "outputs": [],
   "source": [
    "# Fit the tokenizer on the data\n",
    "tokenizer = Tokenizer()\n",
    "tokenizer.fit_on_texts(corpus)\n",
    "total_words = len(tokenizer.word_index) + 1"
   ]
  },
  {
   "cell_type": "code",
   "execution_count": 4,
   "metadata": {},
   "outputs": [
    {
     "name": "stdout",
     "output_type": "stream",
     "text": [
      "There are 54010 n-grams\n",
      "\n",
      "The longest n-gram has 30 words\n",
      "\n",
      "The first 10 n-grams look like this:\n",
      "\n",
      "[1, 40]\n",
      "[1, 40, 22]\n",
      "[1, 40, 22, 238]\n",
      "[1, 40, 22, 238, 239]\n",
      "[775, 36]\n",
      "[775, 36, 114]\n",
      "[775, 36, 114, 83]\n",
      "[775, 36, 114, 83, 328]\n",
      "[1, 131]\n",
      "[1, 131, 121]\n"
     ]
    }
   ],
   "source": [
    "# Generate n-grams on the data\n",
    "input_sequences = []\n",
    "for line in corpus:\n",
    "    sequence = tokenizer.texts_to_sequences([line])[0]\n",
    "    for i in range(1, len(sequence)):\n",
    "        n_gram_sequence = sequence[:i+1]\n",
    "        input_sequences.append(n_gram_sequence)\n",
    "\n",
    "# Save max sequence length\n",
    "max_sequence_len = max([len(x) for x in input_sequences])\n",
    "        \n",
    "print(f\"There are {len(input_sequences)} n-grams\\n\")\n",
    "print(f\"The longest n-gram has {max_sequence_len} words\\n\")\n",
    "print(f\"The first 10 n-grams look like this:\\n\")\n",
    "for i in range(10):\n",
    "  print(input_sequences[i])        "
   ]
  },
  {
   "cell_type": "code",
   "execution_count": 5,
   "metadata": {},
   "outputs": [
    {
     "name": "stdout",
     "output_type": "stream",
     "text": [
      "Padded corpus has shape (54010, 30)\n",
      "\n",
      "The first 10 padded n-grams look like this:\n",
      "\n",
      "[ 0  0  0  0  0  0  0  0  0  0  0  0  0  0  0  0  0  0  0  0  0  0  0  0\n",
      "  0  0  0  0  1 40]\n",
      "[ 0  0  0  0  0  0  0  0  0  0  0  0  0  0  0  0  0  0  0  0  0  0  0  0\n",
      "  0  0  0  1 40 22]\n",
      "[  0   0   0   0   0   0   0   0   0   0   0   0   0   0   0   0   0   0\n",
      "   0   0   0   0   0   0   0   0   1  40  22 238]\n",
      "[  0   0   0   0   0   0   0   0   0   0   0   0   0   0   0   0   0   0\n",
      "   0   0   0   0   0   0   0   1  40  22 238 239]\n",
      "[  0   0   0   0   0   0   0   0   0   0   0   0   0   0   0   0   0   0\n",
      "   0   0   0   0   0   0   0   0   0   0 775  36]\n",
      "[  0   0   0   0   0   0   0   0   0   0   0   0   0   0   0   0   0   0\n",
      "   0   0   0   0   0   0   0   0   0 775  36 114]\n",
      "[  0   0   0   0   0   0   0   0   0   0   0   0   0   0   0   0   0   0\n",
      "   0   0   0   0   0   0   0   0 775  36 114  83]\n",
      "[  0   0   0   0   0   0   0   0   0   0   0   0   0   0   0   0   0   0\n",
      "   0   0   0   0   0   0   0 775  36 114  83 328]\n",
      "[  0   0   0   0   0   0   0   0   0   0   0   0   0   0   0   0   0   0\n",
      "   0   0   0   0   0   0   0   0   0   0   1 131]\n",
      "[  0   0   0   0   0   0   0   0   0   0   0   0   0   0   0   0   0   0\n",
      "   0   0   0   0   0   0   0   0   0   1 131 121]\n"
     ]
    }
   ],
   "source": [
    "# pad sequences\n",
    "input_sequences = np.array(pad_sequences(input_sequences, maxlen=max_sequence_len, padding='pre'))\n",
    "print(f\"Padded corpus has shape {input_sequences.shape}\\n\")\n",
    "print(f\"The first 10 padded n-grams look like this:\\n\")\n",
    "for i in range(10):\n",
    "  print(input_sequences[i])\n"
   ]
  },
  {
   "cell_type": "code",
   "execution_count": 6,
   "metadata": {},
   "outputs": [
    {
     "name": "stdout",
     "output_type": "stream",
     "text": [
      "Feutures have shape (54010, 29)\n",
      "\n",
      "Labels have shape (54010, 5195)\n",
      "\n",
      "The first 5 feutures look like this:\n",
      "\n",
      "[0 0 0 0 0 0 0 0 0 0 0 0 0 0 0 0 0 0 0 0 0 0 0 0 0 0 0 0 1]\n",
      "[ 0  0  0  0  0  0  0  0  0  0  0  0  0  0  0  0  0  0  0  0  0  0  0  0\n",
      "  0  0  0  1 40]\n",
      "[ 0  0  0  0  0  0  0  0  0  0  0  0  0  0  0  0  0  0  0  0  0  0  0  0\n",
      "  0  0  1 40 22]\n",
      "[  0   0   0   0   0   0   0   0   0   0   0   0   0   0   0   0   0   0\n",
      "   0   0   0   0   0   0   0   1  40  22 238]\n",
      "[  0   0   0   0   0   0   0   0   0   0   0   0   0   0   0   0   0   0\n",
      "   0   0   0   0   0   0   0   0   0   0 775]\n",
      "The first 5 labels look like this:\n",
      "\n",
      "[0. 0. 0. ... 0. 0. 0.]\n",
      "[0. 0. 0. ... 0. 0. 0.]\n",
      "[0. 0. 0. ... 0. 0. 0.]\n",
      "[0. 0. 0. ... 0. 0. 0.]\n",
      "[0. 0. 0. ... 0. 0. 0.]\n"
     ]
    }
   ],
   "source": [
    "# Split the n-grams into feutures and labels\n",
    "# The last word in each n-gram is the label\n",
    "feutures, labels = input_sequences[:,:-1],input_sequences[:,-1]\n",
    "\n",
    "# One-hot encode the labels\n",
    "labels = to_categorical(labels, num_classes=total_words)\n",
    "\n",
    "print(f\"Feutures have shape {feutures.shape}\\n\")\n",
    "print(f\"Labels have shape {labels.shape}\\n\")\n",
    "print(f\"The first 5 feutures look like this:\\n\")\n",
    "for i in range(5):\n",
    "  print(feutures[i])\n",
    "print(f\"The first 5 labels look like this:\\n\")\n",
    "for i in range(5):\n",
    "  print(labels[i])"
   ]
  },
  {
   "cell_type": "code",
   "execution_count": 7,
   "metadata": {},
   "outputs": [
    {
     "name": "stdout",
     "output_type": "stream",
     "text": [
      "WARNING:tensorflow:From c:\\Users\\pcd\\Documents\\GitHub\\elden-ring-dialogue-generator\\.venv\\lib\\site-packages\\keras\\src\\backend.py:873: The name tf.get_default_graph is deprecated. Please use tf.compat.v1.get_default_graph instead.\n",
      "\n",
      "WARNING:tensorflow:From c:\\Users\\pcd\\Documents\\GitHub\\elden-ring-dialogue-generator\\.venv\\lib\\site-packages\\keras\\src\\optimizers\\__init__.py:309: The name tf.train.Optimizer is deprecated. Please use tf.compat.v1.train.Optimizer instead.\n",
      "\n"
     ]
    }
   ],
   "source": [
    "# Build the model\n",
    "model = tf.keras.Sequential([\n",
    "    tf.keras.layers.Embedding(total_words, 100, input_length=max_sequence_len-1),\n",
    "    #tf.keras.layers.Bidirectional(tf.keras.layers.LSTM(64, activation='relu',return_sequences=True)),\n",
    "    tf.keras.layers.Bidirectional(tf.keras.layers.LSTM(64, activation='relu')),\n",
    "    tf.keras.layers.Dense(total_words, activation='softmax')\n",
    "])\n",
    "\n",
    "model.compile(loss='categorical_crossentropy', optimizer='adam', metrics=['accuracy'])"
   ]
  },
  {
   "cell_type": "code",
   "execution_count": 8,
   "metadata": {},
   "outputs": [
    {
     "name": "stdout",
     "output_type": "stream",
     "text": [
      "Epoch 1/50\n",
      "WARNING:tensorflow:From c:\\Users\\pcd\\Documents\\GitHub\\elden-ring-dialogue-generator\\.venv\\lib\\site-packages\\keras\\src\\utils\\tf_utils.py:492: The name tf.ragged.RaggedTensorValue is deprecated. Please use tf.compat.v1.ragged.RaggedTensorValue instead.\n",
      "\n",
      "WARNING:tensorflow:From c:\\Users\\pcd\\Documents\\GitHub\\elden-ring-dialogue-generator\\.venv\\lib\\site-packages\\keras\\src\\engine\\base_layer_utils.py:384: The name tf.executing_eagerly_outside_functions is deprecated. Please use tf.compat.v1.executing_eagerly_outside_functions instead.\n",
      "\n",
      "1688/1688 [==============================] - 20s 11ms/step - loss: 6.5363 - accuracy: 0.0579\n",
      "Epoch 2/50\n",
      "1688/1688 [==============================] - 19s 11ms/step - loss: 5.9363 - accuracy: 0.0914\n",
      "Epoch 3/50\n",
      "1688/1688 [==============================] - 19s 11ms/step - loss: 5.4895 - accuracy: 0.1238\n",
      "Epoch 4/50\n",
      "1688/1688 [==============================] - 18s 11ms/step - loss: 5.0974 - accuracy: 0.1518\n",
      "Epoch 5/50\n",
      "1688/1688 [==============================] - 19s 11ms/step - loss: 4.7372 - accuracy: 0.1750\n",
      "Epoch 6/50\n",
      "1688/1688 [==============================] - 18s 11ms/step - loss: 4.3758 - accuracy: 0.2049\n",
      "Epoch 7/50\n",
      "1688/1688 [==============================] - 18s 11ms/step - loss: 3.9916 - accuracy: 0.2394\n",
      "Epoch 8/50\n",
      "1688/1688 [==============================] - 18s 11ms/step - loss: 3.6219 - accuracy: 0.2809\n",
      "Epoch 9/50\n",
      "1688/1688 [==============================] - 18s 11ms/step - loss: 3.2873 - accuracy: 0.3255\n",
      "Epoch 10/50\n",
      "1688/1688 [==============================] - 18s 11ms/step - loss: 2.9999 - accuracy: 0.3689\n",
      "Epoch 11/50\n",
      "1688/1688 [==============================] - 18s 11ms/step - loss: 2.7617 - accuracy: 0.4093\n",
      "Epoch 12/50\n",
      "1688/1688 [==============================] - 18s 11ms/step - loss: 2.5658 - accuracy: 0.4431\n",
      "Epoch 13/50\n",
      "1688/1688 [==============================] - 18s 11ms/step - loss: 2.3953 - accuracy: 0.4717\n",
      "Epoch 14/50\n",
      "1688/1688 [==============================] - 18s 11ms/step - loss: 2.2602 - accuracy: 0.4961\n",
      "Epoch 15/50\n",
      "1688/1688 [==============================] - 18s 11ms/step - loss: 2.1220 - accuracy: 0.5198\n",
      "Epoch 16/50\n",
      "1688/1688 [==============================] - 18s 11ms/step - loss: 2.0089 - accuracy: 0.5428\n",
      "Epoch 17/50\n",
      "1688/1688 [==============================] - 18s 11ms/step - loss: 1.9137 - accuracy: 0.5621\n",
      "Epoch 18/50\n",
      "1688/1688 [==============================] - 18s 11ms/step - loss: 1.8245 - accuracy: 0.5790\n",
      "Epoch 19/50\n",
      "1688/1688 [==============================] - 18s 11ms/step - loss: 1.7471 - accuracy: 0.5937\n",
      "Epoch 20/50\n",
      "1688/1688 [==============================] - 18s 11ms/step - loss: 1.6723 - accuracy: 0.6075\n",
      "Epoch 21/50\n",
      "1688/1688 [==============================] - 18s 11ms/step - loss: 1.6106 - accuracy: 0.6188\n",
      "Epoch 22/50\n",
      "1688/1688 [==============================] - 18s 11ms/step - loss: 1.5450 - accuracy: 0.6347\n",
      "Epoch 23/50\n",
      "1688/1688 [==============================] - 18s 11ms/step - loss: 1.4872 - accuracy: 0.6447\n",
      "Epoch 24/50\n",
      "1688/1688 [==============================] - 18s 11ms/step - loss: 1.4418 - accuracy: 0.6537\n",
      "Epoch 25/50\n",
      "1688/1688 [==============================] - 18s 11ms/step - loss: 1.3892 - accuracy: 0.6648\n",
      "Epoch 26/50\n",
      "1688/1688 [==============================] - 18s 11ms/step - loss: 1.3542 - accuracy: 0.6727\n",
      "Epoch 27/50\n",
      "1688/1688 [==============================] - 19s 11ms/step - loss: 1.3133 - accuracy: 0.6827\n",
      "Epoch 28/50\n",
      "1688/1688 [==============================] - 19s 11ms/step - loss: 1.2745 - accuracy: 0.6899\n",
      "Epoch 29/50\n",
      "1688/1688 [==============================] - 19s 11ms/step - loss: 1.2416 - accuracy: 0.6955\n",
      "Epoch 30/50\n",
      "1688/1688 [==============================] - 19s 11ms/step - loss: 1.2074 - accuracy: 0.7058\n",
      "Epoch 31/50\n",
      "1688/1688 [==============================] - 19s 11ms/step - loss: 1.1822 - accuracy: 0.7112\n",
      "Epoch 32/50\n",
      "1688/1688 [==============================] - 18s 11ms/step - loss: 1.1550 - accuracy: 0.7162\n",
      "Epoch 33/50\n",
      "1688/1688 [==============================] - 18s 11ms/step - loss: 1.1388 - accuracy: 0.7181\n",
      "Epoch 34/50\n",
      "1688/1688 [==============================] - 18s 11ms/step - loss: 1.1011 - accuracy: 0.7276\n",
      "Epoch 35/50\n",
      "1688/1688 [==============================] - 18s 11ms/step - loss: 1.0813 - accuracy: 0.7326\n",
      "Epoch 36/50\n",
      "1688/1688 [==============================] - 19s 11ms/step - loss: 1.0652 - accuracy: 0.7341\n",
      "Epoch 37/50\n",
      "1688/1688 [==============================] - 19s 11ms/step - loss: 1.0431 - accuracy: 0.7385\n",
      "Epoch 38/50\n",
      "1688/1688 [==============================] - 19s 11ms/step - loss: 1.0260 - accuracy: 0.7437\n",
      "Epoch 39/50\n",
      "1688/1688 [==============================] - 18s 11ms/step - loss: 1.0236 - accuracy: 0.7425\n",
      "Epoch 40/50\n",
      "1688/1688 [==============================] - 18s 11ms/step - loss: 0.9970 - accuracy: 0.7493\n",
      "Epoch 41/50\n",
      "1688/1688 [==============================] - 19s 11ms/step - loss: 0.9786 - accuracy: 0.7530\n",
      "Epoch 42/50\n",
      "1688/1688 [==============================] - 19s 11ms/step - loss: 0.9736 - accuracy: 0.7527\n",
      "Epoch 43/50\n",
      "1688/1688 [==============================] - 18s 11ms/step - loss: 0.9529 - accuracy: 0.7577\n",
      "Epoch 44/50\n",
      "1688/1688 [==============================] - 19s 11ms/step - loss: 0.9412 - accuracy: 0.7610\n",
      "Epoch 45/50\n",
      "1688/1688 [==============================] - 18s 11ms/step - loss: 0.9244 - accuracy: 0.7654\n",
      "Epoch 46/50\n",
      "1688/1688 [==============================] - 19s 11ms/step - loss: 0.9192 - accuracy: 0.7669\n",
      "Epoch 47/50\n",
      "1688/1688 [==============================] - 19s 11ms/step - loss: 0.9095 - accuracy: 0.7679\n",
      "Epoch 48/50\n",
      "1688/1688 [==============================] - 18s 11ms/step - loss: 0.9017 - accuracy: 0.7696\n",
      "Epoch 49/50\n",
      "1688/1688 [==============================] - 19s 11ms/step - loss: 0.8921 - accuracy: 0.7727\n",
      "Epoch 50/50\n",
      "1688/1688 [==============================] - 19s 11ms/step - loss: 0.8840 - accuracy: 0.7732\n"
     ]
    }
   ],
   "source": [
    "history = model.fit(feutures, labels, epochs=50, verbose=1)"
   ]
  },
  {
   "cell_type": "code",
   "execution_count": 11,
   "metadata": {},
   "outputs": [
    {
     "data": {
      "image/png": "[encoded data removed]",
      "text/plain": [
       "<Figure size 640x480 with 1 Axes>"
      ]
     },
     "metadata": {},
     "output_type": "display_data"
    },
    {
     "data": {
      "image/png": "[encoded data removed]",
      "text/plain": [
       "<Figure size 640x480 with 1 Axes>"
      ]
     },
     "metadata": {},
     "output_type": "display_data"
    }
   ],
   "source": [
    "# plot the accuracy and loss\n",
    "import matplotlib.pyplot as plt\n",
    "\n",
    "acc = history.history['accuracy']\n",
    "loss = history.history['loss']\n",
    "epochs = range(len(acc))\n",
    "\n",
    "plt.plot(epochs, acc, 'b', label='Training accuracy')\n",
    "plt.figure()\n",
    "plt.plot(epochs, loss, 'r', label='Training Loss')\n",
    "plt.title('Training accuracy and loss')\n",
    "plt.legend()\n",
    "plt.show()"
   ]
  },
  {
   "cell_type": "code",
   "execution_count": 12,
   "metadata": {},
   "outputs": [],
   "source": [
    "# Saving the model and tokenizer\n",
    "history.model.save('model.keras')\n",
    "tokenizer_json = tokenizer.to_json()\n",
    "with open('tokenizer.json', 'w', encoding='utf-8') as f:\n",
    "    f.write(tokenizer_json)"
   ]
  },
  {
   "cell_type": "code",
   "execution_count": null,
   "metadata": {},
   "outputs": [],
   "source": []
  }
 ],
 "metadata": {
  "kernelspec": {
   "display_name": ".venv",
   "language": "python",
   "name": "python3"
  },
  "language_info": {
   "codemirror_mode": {
    "name": "ipython",
    "version": 3
   },
   "file_extension": ".py",
   "mimetype": "text/x-python",
   "name": "python",
   "nbconvert_exporter": "python",
   "pygments_lexer": "ipython3",
   "version": "3.10.0"
  }
 },
 "nbformat": 4,
 "nbformat_minor": 2
}
