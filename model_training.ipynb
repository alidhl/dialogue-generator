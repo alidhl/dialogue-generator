{
 "cells": [
  {
   "cell_type": "code",
   "execution_count": 1,
   "metadata": {},
   "outputs": [
    {
     "name": "stdout",
     "output_type": "stream",
     "text": [
      "WARNING:tensorflow:From c:\\Users\\pcd\\Documents\\GitHub\\elden-ring-dialogue-generator\\.venv\\lib\\site-packages\\keras\\src\\losses.py:2976: The name tf.losses.sparse_softmax_cross_entropy is deprecated. Please use tf.compat.v1.losses.sparse_softmax_cross_entropy instead.\n",
      "\n"
     ]
    }
   ],
   "source": [
    "import csv\n",
    "import numpy as np\n",
    "import tensorflow as tf\n",
    "from tensorflow.keras.utils import to_categorical\n",
    "from tensorflow.keras.preprocessing.text import Tokenizer\n",
    "from tensorflow.keras.preprocessing.sequence import pad_sequences\n"
   ]
  },
  {
   "cell_type": "code",
   "execution_count": 2,
   "metadata": {},
   "outputs": [
    {
     "name": "stdout",
     "output_type": "stream",
     "text": [
      "There are 8014 lines of dialogue\n",
      "\n",
      "The first 5 lines look like this:\n",
      "\n",
      "text\n",
      "The Tarnished will soon return.\n",
      "Guided by Grace once lost.\n",
      "The Golden Order is broken to its core.\n",
      "They will fight. And they will die. In an unending curse.\n"
     ]
    }
   ],
   "source": [
    "\n",
    "\n",
    "corpus = []\n",
    "with open('ER-Data.csv', 'r') as csvfile:\n",
    "    reader = csv.reader(csvfile)\n",
    "    for row in reader:\n",
    "        corpus.append(row[1])\n",
    "    \n",
    "print(f\"There are {len(corpus)} lines of dialogue\\n\")\n",
    "print(f\"The first 5 lines look like this:\\n\")\n",
    "for i in range(5):\n",
    "  print(corpus[i])    "
   ]
  },
  {
   "cell_type": "code",
   "execution_count": 3,
   "metadata": {},
   "outputs": [],
   "source": [
    "# Fit the tokenizer on the data\n",
    "tokenizer = Tokenizer()\n",
    "tokenizer.fit_on_texts(corpus)\n",
    "total_words = len(tokenizer.word_index) + 1"
   ]
  },
  {
   "cell_type": "code",
   "execution_count": 4,
   "metadata": {},
   "outputs": [
    {
     "name": "stdout",
     "output_type": "stream",
     "text": [
      "There are 54010 n-grams\n",
      "\n",
      "The longest n-gram has 30 words\n",
      "\n",
      "The first 10 n-grams look like this:\n",
      "\n",
      "[1, 40]\n",
      "[1, 40, 22]\n",
      "[1, 40, 22, 238]\n",
      "[1, 40, 22, 238, 239]\n",
      "[775, 36]\n",
      "[775, 36, 114]\n",
      "[775, 36, 114, 83]\n",
      "[775, 36, 114, 83, 328]\n",
      "[1, 131]\n",
      "[1, 131, 121]\n"
     ]
    }
   ],
   "source": [
    "# Generate n-grams on the data\n",
    "input_sequences = []\n",
    "for line in corpus:\n",
    "    sequence = tokenizer.texts_to_sequences([line])[0]\n",
    "    for i in range(1, len(sequence)):\n",
    "        n_gram_sequence = sequence[:i+1]\n",
    "        input_sequences.append(n_gram_sequence)\n",
    "\n",
    "# Save max sequence length\n",
    "max_sequence_len = max([len(x) for x in input_sequences])\n",
    "        \n",
    "print(f\"There are {len(input_sequences)} n-grams\\n\")\n",
    "print(f\"The longest n-gram has {max_sequence_len} words\\n\")\n",
    "print(f\"The first 10 n-grams look like this:\\n\")\n",
    "for i in range(10):\n",
    "  print(input_sequences[i])        "
   ]
  },
  {
   "cell_type": "code",
   "execution_count": 5,
   "metadata": {},
   "outputs": [
    {
     "name": "stdout",
     "output_type": "stream",
     "text": [
      "Padded corpus has shape (54010, 30)\n",
      "\n",
      "The first 10 padded n-grams look like this:\n",
      "\n",
      "[ 0  0  0  0  0  0  0  0  0  0  0  0  0  0  0  0  0  0  0  0  0  0  0  0\n",
      "  0  0  0  0  1 40]\n",
      "[ 0  0  0  0  0  0  0  0  0  0  0  0  0  0  0  0  0  0  0  0  0  0  0  0\n",
      "  0  0  0  1 40 22]\n",
      "[  0   0   0   0   0   0   0   0   0   0   0   0   0   0   0   0   0   0\n",
      "   0   0   0   0   0   0   0   0   1  40  22 238]\n",
      "[  0   0   0   0   0   0   0   0   0   0   0   0   0   0   0   0   0   0\n",
      "   0   0   0   0   0   0   0   1  40  22 238 239]\n",
      "[  0   0   0   0   0   0   0   0   0   0   0   0   0   0   0   0   0   0\n",
      "   0   0   0   0   0   0   0   0   0   0 775  36]\n",
      "[  0   0   0   0   0   0   0   0   0   0   0   0   0   0   0   0   0   0\n",
      "   0   0   0   0   0   0   0   0   0 775  36 114]\n",
      "[  0   0   0   0   0   0   0   0   0   0   0   0   0   0   0   0   0   0\n",
      "   0   0   0   0   0   0   0   0 775  36 114  83]\n",
      "[  0   0   0   0   0   0   0   0   0   0   0   0   0   0   0   0   0   0\n",
      "   0   0   0   0   0   0   0 775  36 114  83 328]\n",
      "[  0   0   0   0   0   0   0   0   0   0   0   0   0   0   0   0   0   0\n",
      "   0   0   0   0   0   0   0   0   0   0   1 131]\n",
      "[  0   0   0   0   0   0   0   0   0   0   0   0   0   0   0   0   0   0\n",
      "   0   0   0   0   0   0   0   0   0   1 131 121]\n"
     ]
    }
   ],
   "source": [
    "# pad sequences\n",
    "input_sequences = np.array(pad_sequences(input_sequences, maxlen=max_sequence_len, padding='pre'))\n",
    "print(f\"Padded corpus has shape {input_sequences.shape}\\n\")\n",
    "print(f\"The first 10 padded n-grams look like this:\\n\")\n",
    "for i in range(10):\n",
    "  print(input_sequences[i])\n"
   ]
  },
  {
   "cell_type": "code",
   "execution_count": 6,
   "metadata": {},
   "outputs": [
    {
     "name": "stdout",
     "output_type": "stream",
     "text": [
      "Feutures have shape (54010, 29)\n",
      "\n",
      "Labels have shape (54010, 5195)\n",
      "\n",
      "The first 5 feutures look like this:\n",
      "\n",
      "[0 0 0 0 0 0 0 0 0 0 0 0 0 0 0 0 0 0 0 0 0 0 0 0 0 0 0 0 1]\n",
      "[ 0  0  0  0  0  0  0  0  0  0  0  0  0  0  0  0  0  0  0  0  0  0  0  0\n",
      "  0  0  0  1 40]\n",
      "[ 0  0  0  0  0  0  0  0  0  0  0  0  0  0  0  0  0  0  0  0  0  0  0  0\n",
      "  0  0  1 40 22]\n",
      "[  0   0   0   0   0   0   0   0   0   0   0   0   0   0   0   0   0   0\n",
      "   0   0   0   0   0   0   0   1  40  22 238]\n",
      "[  0   0   0   0   0   0   0   0   0   0   0   0   0   0   0   0   0   0\n",
      "   0   0   0   0   0   0   0   0   0   0 775]\n",
      "The first 5 labels look like this:\n",
      "\n",
      "[0. 0. 0. ... 0. 0. 0.]\n",
      "[0. 0. 0. ... 0. 0. 0.]\n",
      "[0. 0. 0. ... 0. 0. 0.]\n",
      "[0. 0. 0. ... 0. 0. 0.]\n",
      "[0. 0. 0. ... 0. 0. 0.]\n"
     ]
    }
   ],
   "source": [
    "# Split the n-grams into feutures and labels\n",
    "# The last word in each n-gram is the label\n",
    "feutures, labels = input_sequences[:,:-1],input_sequences[:,-1]\n",
    "\n",
    "# One-hot encode the labels\n",
    "labels = to_categorical(labels, num_classes=total_words)\n",
    "\n",
    "print(f\"Feutures have shape {feutures.shape}\\n\")\n",
    "print(f\"Labels have shape {labels.shape}\\n\")\n",
    "print(f\"The first 5 feutures look like this:\\n\")\n",
    "for i in range(5):\n",
    "  print(feutures[i])\n",
    "print(f\"The first 5 labels look like this:\\n\")\n",
    "for i in range(5):\n",
    "  print(labels[i])"
   ]
  },
  {
   "cell_type": "code",
   "execution_count": 7,
   "metadata": {},
   "outputs": [
    {
     "name": "stdout",
     "output_type": "stream",
     "text": [
      "WARNING:tensorflow:From c:\\Users\\pcd\\Documents\\GitHub\\elden-ring-dialogue-generator\\.venv\\lib\\site-packages\\keras\\src\\backend.py:873: The name tf.get_default_graph is deprecated. Please use tf.compat.v1.get_default_graph instead.\n",
      "\n",
      "WARNING:tensorflow:From c:\\Users\\pcd\\Documents\\GitHub\\elden-ring-dialogue-generator\\.venv\\lib\\site-packages\\keras\\src\\optimizers\\__init__.py:309: The name tf.train.Optimizer is deprecated. Please use tf.compat.v1.train.Optimizer instead.\n",
      "\n"
     ]
    }
   ],
   "source": [
    "# Build the model\n",
    "model = tf.keras.Sequential([\n",
    "    tf.keras.layers.Embedding(total_words, 100, input_length=max_sequence_len-1),\n",
    "    tf.keras.layers.Bidirectional(tf.keras.layers.LSTM(64, activation='relu', return_sequences=True)),\n",
    "    tf.keras.layers.Bidirectional(tf.keras.layers.LSTM(64, activation='relu')),\n",
    "    tf.keras.layers.Dense(total_words, activation='softmax')\n",
    "])\n",
    "\n",
    "model.compile(loss='categorical_crossentropy', optimizer='adam', metrics=['accuracy'])"
   ]
  },
  {
   "cell_type": "code",
   "execution_count": 8,
   "metadata": {},
   "outputs": [
    {
     "name": "stdout",
     "output_type": "stream",
     "text": [
      "Epoch 1/50\n",
      "WARNING:tensorflow:From c:\\Users\\pcd\\Documents\\GitHub\\elden-ring-dialogue-generator\\.venv\\lib\\site-packages\\keras\\src\\utils\\tf_utils.py:492: The name tf.ragged.RaggedTensorValue is deprecated. Please use tf.compat.v1.ragged.RaggedTensorValue instead.\n",
      "\n",
      "WARNING:tensorflow:From c:\\Users\\pcd\\Documents\\GitHub\\elden-ring-dialogue-generator\\.venv\\lib\\site-packages\\keras\\src\\engine\\base_layer_utils.py:384: The name tf.executing_eagerly_outside_functions is deprecated. Please use tf.compat.v1.executing_eagerly_outside_functions instead.\n",
      "\n",
      "1688/1688 [==============================] - 35s 19ms/step - loss: 6.5192 - accuracy: 0.0588\n",
      "Epoch 2/50\n",
      "1688/1688 [==============================] - 32s 19ms/step - loss: 5.9045 - accuracy: 0.0894\n",
      "Epoch 3/50\n",
      "1688/1688 [==============================] - 31s 18ms/step - loss: 5.5228 - accuracy: 0.1185\n",
      "Epoch 4/50\n",
      "1688/1688 [==============================] - 31s 18ms/step - loss: 5.2055 - accuracy: 0.1424\n",
      "Epoch 5/50\n",
      "1688/1688 [==============================] - 36s 21ms/step - loss: 4.9106 - accuracy: 0.1612\n",
      "Epoch 6/50\n",
      "1688/1688 [==============================] - 32s 19ms/step - loss: 4.6245 - accuracy: 0.1815\n",
      "Epoch 7/50\n",
      "1688/1688 [==============================] - 34s 20ms/step - loss: 4.3365 - accuracy: 0.2016\n",
      "Epoch 8/50\n",
      "1688/1688 [==============================] - 32s 19ms/step - loss: 4.0469 - accuracy: 0.2300\n",
      "Epoch 9/50\n",
      "1688/1688 [==============================] - 35s 21ms/step - loss: 3.7510 - accuracy: 0.2590\n",
      "Epoch 10/50\n",
      "1688/1688 [==============================] - 37s 22ms/step - loss: 3.4677 - accuracy: 0.2924\n",
      "Epoch 11/50\n",
      "1688/1688 [==============================] - 32s 19ms/step - loss: 3.1971 - accuracy: 0.3277\n",
      "Epoch 12/50\n",
      "1688/1688 [==============================] - 32s 19ms/step - loss: 2.9550 - accuracy: 0.3648\n",
      "Epoch 13/50\n",
      "1688/1688 [==============================] - 32s 19ms/step - loss: 2.7410 - accuracy: 0.3986\n",
      "Epoch 14/50\n",
      "1688/1688 [==============================] - 32s 19ms/step - loss: 2.5557 - accuracy: 0.4305\n",
      "Epoch 15/50\n",
      "1688/1688 [==============================] - 32s 19ms/step - loss: 2.3949 - accuracy: 0.4573\n",
      "Epoch 16/50\n",
      "1688/1688 [==============================] - 32s 19ms/step - loss: 2.2458 - accuracy: 0.4854\n",
      "Epoch 17/50\n",
      "1688/1688 [==============================] - 31s 19ms/step - loss: 2.1215 - accuracy: 0.5083\n",
      "Epoch 18/50\n",
      "1688/1688 [==============================] - 32s 19ms/step - loss: 2.0030 - accuracy: 0.5300\n",
      "Epoch 19/50\n",
      "1688/1688 [==============================] - 32s 19ms/step - loss: 1.8984 - accuracy: 0.5513\n",
      "Epoch 20/50\n",
      "1688/1688 [==============================] - 31s 19ms/step - loss: 1.8099 - accuracy: 0.5681\n",
      "Epoch 21/50\n",
      "1688/1688 [==============================] - 32s 19ms/step - loss: 1.7207 - accuracy: 0.5871\n",
      "Epoch 22/50\n",
      "1688/1688 [==============================] - 32s 19ms/step - loss: 1.6448 - accuracy: 0.6019\n",
      "Epoch 23/50\n",
      "1688/1688 [==============================] - 32s 19ms/step - loss: 1.5677 - accuracy: 0.6168\n",
      "Epoch 24/50\n",
      "1688/1688 [==============================] - 32s 19ms/step - loss: 1.5116 - accuracy: 0.6300\n",
      "Epoch 25/50\n",
      "1688/1688 [==============================] - 32s 19ms/step - loss: 1.4557 - accuracy: 0.6405\n",
      "Epoch 26/50\n",
      "1688/1688 [==============================] - 32s 19ms/step - loss: 1.3967 - accuracy: 0.6530\n",
      "Epoch 27/50\n",
      "1688/1688 [==============================] - 32s 19ms/step - loss: 1.3584 - accuracy: 0.6615\n",
      "Epoch 28/50\n",
      "1688/1688 [==============================] - 32s 19ms/step - loss: 1.2995 - accuracy: 0.6747\n",
      "Epoch 29/50\n",
      "1688/1688 [==============================] - 32s 19ms/step - loss: 1.2605 - accuracy: 0.6834\n",
      "Epoch 30/50\n",
      "1688/1688 [==============================] - 32s 19ms/step - loss: 1.2282 - accuracy: 0.6907\n",
      "Epoch 31/50\n",
      "1688/1688 [==============================] - 32s 19ms/step - loss: 1.2037 - accuracy: 0.6972\n",
      "Epoch 32/50\n",
      "1688/1688 [==============================] - 32s 19ms/step - loss: 1.1621 - accuracy: 0.7049\n",
      "Epoch 33/50\n",
      "1688/1688 [==============================] - 32s 19ms/step - loss: 1.1363 - accuracy: 0.7099\n",
      "Epoch 34/50\n",
      "1688/1688 [==============================] - 32s 19ms/step - loss: 1.1143 - accuracy: 0.7146\n",
      "Epoch 35/50\n",
      "1688/1688 [==============================] - 32s 19ms/step - loss: 1.0891 - accuracy: 0.7225\n",
      "Epoch 36/50\n",
      "1688/1688 [==============================] - 32s 19ms/step - loss: 1.0686 - accuracy: 0.7256\n",
      "Epoch 37/50\n",
      "1688/1688 [==============================] - 32s 19ms/step - loss: 1.0686 - accuracy: 0.7264\n",
      "Epoch 38/50\n",
      "1688/1688 [==============================] - 32s 19ms/step - loss: 1.0385 - accuracy: 0.7328\n",
      "Epoch 39/50\n",
      "1688/1688 [==============================] - 32s 19ms/step - loss: 0.9919 - accuracy: 0.7453\n",
      "Epoch 40/50\n",
      "1688/1688 [==============================] - 32s 19ms/step - loss: 0.9854 - accuracy: 0.7451\n",
      "Epoch 41/50\n",
      "1688/1688 [==============================] - 32s 19ms/step - loss: 0.9878 - accuracy: 0.7448\n",
      "Epoch 42/50\n",
      "1688/1688 [==============================] - 32s 19ms/step - loss: 0.9575 - accuracy: 0.7506\n",
      "Epoch 43/50\n",
      "1688/1688 [==============================] - 32s 19ms/step - loss: 0.9538 - accuracy: 0.7508\n",
      "Epoch 44/50\n",
      "1688/1688 [==============================] - 32s 19ms/step - loss: 0.9292 - accuracy: 0.7591\n",
      "Epoch 45/50\n",
      "1688/1688 [==============================] - 32s 19ms/step - loss: 0.9279 - accuracy: 0.7569\n",
      "Epoch 46/50\n",
      "1688/1688 [==============================] - 32s 19ms/step - loss: 0.9137 - accuracy: 0.7624\n",
      "Epoch 47/50\n",
      "1688/1688 [==============================] - 32s 19ms/step - loss: 0.9074 - accuracy: 0.7636\n",
      "Epoch 48/50\n",
      "1688/1688 [==============================] - 32s 19ms/step - loss: 1.0358 - accuracy: 0.7318\n",
      "Epoch 49/50\n",
      "1688/1688 [==============================] - 32s 19ms/step - loss: 0.8745 - accuracy: 0.7717\n",
      "Epoch 50/50\n",
      "1688/1688 [==============================] - 32s 19ms/step - loss: 0.8471 - accuracy: 0.7816\n"
     ]
    }
   ],
   "source": [
    "history = model.fit(feutures, labels, epochs=50, verbose=1)"
   ]
  },
  {
   "cell_type": "code",
   "execution_count": 9,
   "metadata": {},
   "outputs": [
    {
     "data": {
      "image/png": "[encoded data removed]",
      "text/plain": [
       "<Figure size 640x480 with 1 Axes>"
      ]
     },
     "metadata": {},
     "output_type": "display_data"
    },
    {
     "data": {
      "image/png": "[encoded data removed]",
      "text/plain": [
       "<Figure size 640x480 with 1 Axes>"
      ]
     },
     "metadata": {},
     "output_type": "display_data"
    }
   ],
   "source": [
    "# plot the accuracy and loss\n",
    "import matplotlib.pyplot as plt\n",
    "\n",
    "acc = history.history['accuracy']\n",
    "loss = history.history['loss']\n",
    "epochs = range(len(acc))\n",
    "\n",
    "plt.plot(epochs, acc, 'b', label='Training accuracy')\n",
    "plt.figure()\n",
    "plt.plot(epochs, loss, 'r', label='Training Loss')\n",
    "plt.title('Training accuracy and loss')\n",
    "plt.legend()\n",
    "plt.show()"
   ]
  },
  {
   "cell_type": "code",
   "execution_count": 10,
   "metadata": {},
   "outputs": [
    {
     "name": "stdout",
     "output_type": "stream",
     "text": [
      "INFO:tensorflow:Assets written to: model\\assets\n"
     ]
    },
    {
     "name": "stderr",
     "output_type": "stream",
     "text": [
      "INFO:tensorflow:Assets written to: model\\assets\n"
     ]
    }
   ],
   "source": [
    "# Saving the model and tokenizer\n",
    "history.model.save('model', save_format='tf')\n",
    "tokenizer_json = tokenizer.to_json()\n",
    "with open('tokenizer.json', 'w', encoding='utf-8') as f:\n",
    "    f.write(tokenizer_json)"
   ]
  },
  {
   "cell_type": "code",
   "execution_count": null,
   "metadata": {},
   "outputs": [],
   "source": []
  }
 ],
 "metadata": {
  "kernelspec": {
   "display_name": ".venv",
   "language": "python",
   "name": "python3"
  },
  "language_info": {
   "codemirror_mode": {
    "name": "ipython",
    "version": 3
   },
   "file_extension": ".py",
   "mimetype": "text/x-python",
   "name": "python",
   "nbconvert_exporter": "python",
   "pygments_lexer": "ipython3",
   "version": "3.10.0"
  }
 },
 "nbformat": 4,
 "nbformat_minor": 2
}
